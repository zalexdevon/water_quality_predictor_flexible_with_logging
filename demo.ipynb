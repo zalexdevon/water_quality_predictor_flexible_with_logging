{
 "cells": [
  {
   "cell_type": "code",
   "execution_count": null,
   "id": "9aef9d9e",
   "metadata": {},
   "outputs": [],
   "source": [
    "import logging \n",
    "import os \n",
    "from datetime import datetime \n",
    "\n",
    "LOG_FILE = f\"{datetime.now().strftime('%d-%m-%Y-%H-%M-%S')}.log\"\n",
    "logs_path =  os.path.join(os.getcwd(), \"logs\")\n",
    "os.makedirs(logs_path, exist_ok=True)\n",
    "\n",
    "LOG_FILE_PATH = os.path.join(logs_path, LOG_FILE)\n",
    "\n",
    "logging.basicConfig(\n",
    "    filename=LOG_FILE_PATH, \n",
    "    format = \"[ %(asctime)s ] %(lineno)d %(name)s - %(levelname)s - %(message)s\", \n",
    "    level = logging.INFO, \n",
    "\n",
    ")\n",
    "\n",
    "\n",
    "if __name__ == \"__main__\": \n",
    "    logging.info(\"Logging has started\")"
   ]
  },
  {
   "cell_type": "code",
   "execution_count": 5,
   "id": "07c5d544",
   "metadata": {},
   "outputs": [
    {
     "data": {
      "text/html": [
       "<div>\n",
       "<style scoped>\n",
       "    .dataframe tbody tr th:only-of-type {\n",
       "        vertical-align: middle;\n",
       "    }\n",
       "\n",
       "    .dataframe tbody tr th {\n",
       "        vertical-align: top;\n",
       "    }\n",
       "\n",
       "    .dataframe thead th {\n",
       "        text-align: right;\n",
       "    }\n",
       "</style>\n",
       "<table border=\"1\" class=\"dataframe\">\n",
       "  <thead>\n",
       "    <tr style=\"text-align: right;\">\n",
       "      <th></th>\n",
       "      <th>hello</th>\n",
       "    </tr>\n",
       "  </thead>\n",
       "  <tbody>\n",
       "    <tr>\n",
       "      <th>0</th>\n",
       "      <td>0.0</td>\n",
       "    </tr>\n",
       "    <tr>\n",
       "      <th>1</th>\n",
       "      <td>1.0</td>\n",
       "    </tr>\n",
       "    <tr>\n",
       "      <th>2</th>\n",
       "      <td>0.0</td>\n",
       "    </tr>\n",
       "    <tr>\n",
       "      <th>3</th>\n",
       "      <td>2.0</td>\n",
       "    </tr>\n",
       "    <tr>\n",
       "      <th>4</th>\n",
       "      <td>1.0</td>\n",
       "    </tr>\n",
       "    <tr>\n",
       "      <th>5</th>\n",
       "      <td>0.0</td>\n",
       "    </tr>\n",
       "    <tr>\n",
       "      <th>6</th>\n",
       "      <td>1.0</td>\n",
       "    </tr>\n",
       "  </tbody>\n",
       "</table>\n",
       "</div>"
      ],
      "text/plain": [
       "   hello\n",
       "0    0.0\n",
       "1    1.0\n",
       "2    0.0\n",
       "3    2.0\n",
       "4    1.0\n",
       "5    0.0\n",
       "6    1.0"
      ]
     },
     "execution_count": 5,
     "metadata": {},
     "output_type": "execute_result"
    }
   ],
   "source": [
    "import pandas as pd \n",
    "from Mylib import myclasses\n",
    "from sklearn.preprocessing import OrdinalEncoder\n",
    "from sklearn.pipeline import Pipeline\n",
    "from sklearn.compose import ColumnTransformer\n",
    "\n",
    "a = pd.DataFrame(\n",
    "    data={\n",
    "        \"hello\": [1,2,1,3,2,1,2]\n",
    "    }\n",
    ")\n",
    "\n",
    "b = myclasses.NamedColumnTransformer(\n",
    "ColumnTransformer(\n",
    "    transformers=[\n",
    "        (\"1\", OrdinalEncoder(), [\"hello\"])\n",
    "    ]\n",
    ")\n",
    ") \n",
    "\n",
    "a = b.fit_transform(a)\n",
    "\n",
    "a"
   ]
  },
  {
   "cell_type": "code",
   "execution_count": 5,
   "id": "d13b8d40",
   "metadata": {},
   "outputs": [
    {
     "name": "stdout",
     "output_type": "stream",
     "text": [
      "\n",
      "Hello các bạn nhiều nhen \n",
      "Mình là Tâm nè\n",
      "\n",
      "\n",
      "\n",
      "5\n",
      "\n"
     ]
    }
   ],
   "source": [
    "a = 5\n",
    "\n",
    "message = f\"\"\"\n",
    "Hello các bạn nhiều nhen \n",
    "Mình là Tâm nè\n",
    "\n",
    "\n",
    "\n",
    "{a}\n",
    "\"\"\"\n",
    "\n",
    "print(message)"
   ]
  },
  {
   "cell_type": "code",
   "execution_count": 8,
   "id": "3c8c0f87",
   "metadata": {},
   "outputs": [
    {
     "name": "stdout",
     "output_type": "stream",
     "text": [
      "Hello [PolynomialFeatures(include_bias=False), PCA(n_components=15), <Dense name=dense, built=False>]\n"
     ]
    }
   ],
   "source": [
    "from sklearn.preprocessing import PolynomialFeatures \n",
    "from sklearn.decomposition import PCA\n",
    "from tensorflow.keras.layers import Dense, Dropout \n",
    "\n",
    "list_after_feature_transformer = [\n",
    "    PolynomialFeatures(degree=2, include_bias=False), \n",
    "    PCA(n_components=15), \n",
    "    Dense(64, activation= 'relu')\n",
    "]\n",
    "\n",
    "\n",
    "print(f\"Hello {list_after_feature_transformer}\")"
   ]
  },
  {
   "cell_type": "code",
   "execution_count": 9,
   "id": "adec5569",
   "metadata": {},
   "outputs": [
    {
     "name": "stdout",
     "output_type": "stream",
     "text": [
      "Hello các bạn: XGBClassifier(base_score=None, booster=None, callbacks=None,\n",
      "              colsample_bylevel=None, colsample_bynode=None,\n",
      "              colsample_bytree=None, device=None, early_stopping_rounds=None,\n",
      "              enable_categorical=False, eval_metric=None, feature_types=None,\n",
      "              feature_weights=None, gamma=None, grow_policy=None,\n",
      "              importance_type=None, interaction_constraints=None,\n",
      "              learning_rate=None, max_bin=None, max_cat_threshold=None,\n",
      "              max_cat_to_onehot=None, max_delta_step=None, max_depth=10,\n",
      "              max_leaves=None, min_child_weight=None, missing=nan,\n",
      "              monotone_constraints=None, multi_strategy=None, n_estimators=100,\n",
      "              n_jobs=None, num_parallel_tree=None, ...)\n"
     ]
    }
   ],
   "source": [
    "from xgboost import XGBClassifier\n",
    "\n",
    "a = XGBClassifier(n_estimators = 100, max_depth=10, reg_alpha = 1, reg_lambda = 1)\n",
    "\n",
    "print(f\"Hello các bạn: {a}\")"
   ]
  },
  {
   "cell_type": "code",
   "execution_count": 2,
   "id": "1a5760c9",
   "metadata": {},
   "outputs": [
    {
     "name": "stdout",
     "output_type": "stream",
     "text": [
      "Predictions: [1 1 1 0 0 0 0 1 0 0 0 0 1 0 1 0 1 1 0 0]\n",
      "Accuracy: 1.0\n"
     ]
    }
   ],
   "source": [
    "from sklearn.pipeline import Pipeline\n",
    "from sklearn.preprocessing import PolynomialFeatures\n",
    "from sklearn.decomposition import PCA\n",
    "from sklearn.linear_model import LogisticRegression\n",
    "from sklearn.datasets import load_iris\n",
    "from sklearn.model_selection import train_test_split\n",
    "from sklearn.metrics import accuracy_score\n",
    "\n",
    "# Bước 1: Tải dữ liệu\n",
    "iris = load_iris()\n",
    "X, y = iris.data, iris.target\n",
    "\n",
    "# Chỉ lấy 2 lớp để test phân loại nhị phân (cho LogisticRegression dễ hiểu)\n",
    "X = X[y != 2]\n",
    "y = y[y != 2]\n",
    "\n",
    "# Bước 2: Tách train/test\n",
    "X_train, X_test, y_train, y_test = train_test_split(X, y, test_size=0.2, random_state=42)\n",
    "\n",
    "# Bước 3: Tạo pipeline\n",
    "steps = [\n",
    "    ('scaler', PolynomialFeatures(degree=2, include_bias=False)),\n",
    "    ('pca', PCA(n_components=2)),\n",
    "    ('clf', LogisticRegression())\n",
    "]\n",
    "model = Pipeline(steps=steps)\n",
    "\n",
    "# Bước 4: Huấn luyện\n",
    "model.fit(X_train, y_train)\n",
    "\n",
    "# Bước 5: Dự đoán và đánh giá\n",
    "y_pred = model.predict(X_test)\n",
    "acc = accuracy_score(y_test, y_pred)\n",
    "\n",
    "print(\"Predictions:\", y_pred)\n",
    "print(\"Accuracy:\", acc)\n"
   ]
  }
 ],
 "metadata": {
  "kernelspec": {
   "display_name": "ml_venv_new",
   "language": "python",
   "name": "python3"
  },
  "language_info": {
   "codemirror_mode": {
    "name": "ipython",
    "version": 3
   },
   "file_extension": ".py",
   "mimetype": "text/x-python",
   "name": "python",
   "nbconvert_exporter": "python",
   "pygments_lexer": "ipython3",
   "version": "3.10.0"
  }
 },
 "nbformat": 4,
 "nbformat_minor": 5
}
